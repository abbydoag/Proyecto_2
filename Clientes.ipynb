{
 "cells": [
  {
   "cell_type": "code",
   "execution_count": 2,
   "id": "6341ce83-481c-4d07-bdc7-06be4f4e10a1",
   "metadata": {},
   "outputs": [],
   "source": [
    "import pandas as pd \n",
    "import numpy as np \n",
    "import neo4j\n",
    "\n",
    "import seaborn as sns\n",
    "import warnings\n",
    "from neo4j import GraphDatabase\n",
    "warnings.filterwarnings('ignore')\n",
    "##from pandas_profiling import ProfileReport"
   ]
  },
  {
   "cell_type": "code",
   "execution_count": 5,
   "id": "17cdb7d3-c699-4d31-a937-1407c17e3da3",
   "metadata": {},
   "outputs": [],
   "source": [
    "def usuarios_nodo(tx, user_id, user_name):\n",
    "    tx.run(\"CREATE (:User {id: $id, name: $name})\", id=user_id, name=user_name)\n"
   ]
  },
  {
   "cell_type": "code",
   "execution_count": 3,
   "id": "c9604457-0075-422f-bcc5-7d5f2611625d",
   "metadata": {},
   "outputs": [
    {
     "name": "stdout",
     "output_type": "stream",
     "text": [
      "La conexión con Aura Neo4j se ha establecido correctamente. Hay 79 nodos en la base de datos.\n"
     ]
    }
   ],
   "source": [
    "url = \"neo4j+s://9d0eb28d.databases.neo4j.io\"\n",
    "username = \"neo4j\"\n",
    "password = \"ZsZO3ya5YB8EcmVwmxYEqn6Amj_Z7R4t_6VDU5oMIeI\"\n",
    "\n",
    "driver = GraphDatabase.driver(url, auth=(username, password))\n",
    "with driver.session() as session:\n",
    "    result = session.run(\"MATCH (n) RETURN count(n)\")\n",
    "    count = result.single()[0]\n",
    "    print(f\"La conexión con Aura Neo4j se ha establecido correctamente. Hay {count} nodos en la base de datos.\")"
   ]
  },
  {
   "cell_type": "code",
   "execution_count": 8,
   "id": "367a97fc-bf20-4890-a049-d024f2a1f5aa",
   "metadata": {},
   "outputs": [],
   "source": [
    "## Clientes \n",
    "usuarios = [{\"id\": 1, \"name\": \"que_rico_mi_pollito\"}, {\"id\": 2, \"name\": \"puuucha_ESTOY_NARIZOOOON\"}, {\"id\": 666, \"name\": \"dragoneitor Gutierrez\"}, {\"id\": 7, \"name\": \"Harry Haller\"}]\n",
    "for u in usuarios:\n",
    "    with driver.session() as session:\n",
    "        session.write_transaction(usuarios_nodo, u[\"id\"], u[\"name\"])\n",
    "    \n",
    "\n"
   ]
  }
 ],
 "metadata": {
  "kernelspec": {
   "display_name": "Python 3 (ipykernel)",
   "language": "python",
   "name": "python3"
  },
  "language_info": {
   "codemirror_mode": {
    "name": "ipython",
    "version": 3
   },
   "file_extension": ".py",
   "mimetype": "text/x-python",
   "name": "python",
   "nbconvert_exporter": "python",
   "pygments_lexer": "ipython3",
   "version": "3.8.16"
  }
 },
 "nbformat": 4,
 "nbformat_minor": 5
}
