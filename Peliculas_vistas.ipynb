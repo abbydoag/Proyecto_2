{
 "cells": [
  {
   "cell_type": "code",
   "execution_count": 1,
   "id": "cbb00620-60ed-4545-ae5d-0f3db7d3225e",
   "metadata": {},
   "outputs": [],
   "source": [
    "import pandas as pd \n",
    "import numpy as np \n",
    "import neo4j\n",
    "\n",
    "import seaborn as sns\n",
    "import warnings\n",
    "from neo4j import GraphDatabase\n",
    "warnings.filterwarnings('ignore')\n",
    "##from pandas_profiling import ProfileReport"
   ]
  },
  {
   "cell_type": "code",
   "execution_count": 2,
   "id": "23b35b7f-f94f-4816-8e88-4bde474f62cf",
   "metadata": {},
   "outputs": [
    {
     "name": "stdout",
     "output_type": "stream",
     "text": [
      "La conexión con Aura Neo4j se ha establecido correctamente. Hay 83 nodos en la base de datos.\n"
     ]
    }
   ],
   "source": [
    "url = \"neo4j+s://9d0eb28d.databases.neo4j.io\"\n",
    "username = \"neo4j\"\n",
    "password = \"\"\n",
    "\n",
    "driver = GraphDatabase.driver(url, auth=(username, password))\n",
    "with driver.session() as session:\n",
    "    result = session.run(\"MATCH (n) RETURN count(n)\")\n",
    "    count = result.single()[0]\n",
    "    print(f\"La conexión con Aura Neo4j se ha establecido correctamente. Hay {count} nodos en la base de datos.\")"
   ]
  },
  {
   "cell_type": "code",
   "execution_count": 11,
   "id": "8f8a64ff-8854-4e1c-954a-7f0dc2799d42",
   "metadata": {},
   "outputs": [],
   "source": [
    "# Definir las listas de usuarios y películas permitidos\n",
    "import random\n",
    "usuarios = [1, 2, 666, 7]\n",
    "peliculas = ['tt0000009', 'tt0000147', 'tt0000502', 'tt0000574', 'tt0000591', 'tt0000615', 'tt0000630', 'tt0000675', 'tt0000679', \n",
    "             'tt0000838', 'tt0000842', 'tt0000846', 'tt0000850', 'tt0000859', 'tt0000862', 'tt0000867', 'tt0000868', 'tt0000869', \n",
    "             'tt0000879', 'tt0000886', 'tt0000941', 'tt0000947', 'tt0000959', 'tt0000984', 'tt0001007', 'tt0001010', 'tt0001028', \n",
    "             'tt0001043', 'tt0001049', 'tt0001051', 'tt0001059', 'tt0001069', 'tt0001080', 'tt0001081', 'tt0001082', 'tt0001101', \n",
    "             'tt0001038','tt0001112', 'tt0001113', 'tt0001115', 'tt0001116', 'tt0001122', 'tt0001141', 'tt0001142', 'tt0001147',  \n",
    "             'tt0001175', 'tt0001179','tt0001159', 'tt0001163','tt0001109']\n",
    "\n",
    "# Generar una lista aleatoria de usuarios y películas\n",
    "usuarios_aleatorios = random.choices(usuarios, k=100)\n",
    "peliculas_aleatorias = random.choices(peliculas, k=100)\n",
    "\n",
    "# Crear el dataframe con las columnas \"usuario\" y \"pelicula\"\n",
    "visto = pd.DataFrame({'usuario_id': usuarios_aleatorios, 'pelicula_id': peliculas_aleatorias})\n",
    "\n"
   ]
  },
  {
   "cell_type": "code",
   "execution_count": 13,
   "id": "185b7be7-8c57-4a60-87d8-05960901035f",
   "metadata": {},
   "outputs": [],
   "source": [
    "for index, row in visto.iterrows():\n",
    "    user_id = row[\"usuario_id\"]\n",
    "    movie_id = row['pelicula_id']      \n",
    "    with driver.session() as session:    \n",
    "        session.execute_write(\n",
    "            lambda tx: tx.run(\"MATCH(u:User {id: $u_id})\"\n",
    "                              \"MATCH (m:Movie {id: $id}) \"\n",
    "                              \"CREATE (u)-[:IN_VISTAS]->(m)\"\n",
    "                               ,id=movie_id, u_id = user_id))"
   ]
  }
 ],
 "metadata": {
  "kernelspec": {
   "display_name": "Python 3 (ipykernel)",
   "language": "python",
   "name": "python3"
  },
  "language_info": {
   "codemirror_mode": {
    "name": "ipython",
    "version": 3
   },
   "file_extension": ".py",
   "mimetype": "text/x-python",
   "name": "python",
   "nbconvert_exporter": "python",
   "pygments_lexer": "ipython3",
   "version": "3.9.13"
  }
 },
 "nbformat": 4,
 "nbformat_minor": 5
}
