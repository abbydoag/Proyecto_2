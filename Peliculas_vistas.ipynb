{
 "cells": [
  {
   "cell_type": "code",
   "execution_count": 1,
   "id": "cbb00620-60ed-4545-ae5d-0f3db7d3225e",
   "metadata": {},
   "outputs": [
    {
     "ename": "ModuleNotFoundError",
     "evalue": "No module named 'neo4j'",
     "output_type": "error",
     "traceback": [
      "\u001b[1;31m---------------------------------------------------------------------------\u001b[0m",
      "\u001b[1;31mModuleNotFoundError\u001b[0m                       Traceback (most recent call last)",
      "Cell \u001b[1;32mIn[1], line 9\u001b[0m\n\u001b[0;32m      7\u001b[0m \u001b[38;5;28;01mfrom\u001b[39;00m \u001b[38;5;21;01mneo4j\u001b[39;00m \u001b[38;5;28;01mimport\u001b[39;00m GraphDatabase\n\u001b[0;32m      8\u001b[0m warnings\u001b[38;5;241m.\u001b[39mfilterwarnings(\u001b[38;5;124m'\u001b[39m\u001b[38;5;124mignore\u001b[39m\u001b[38;5;124m'\u001b[39m)\n\u001b[1;32m----> 9\u001b[0m \u001b[38;5;28;01mimport\u001b[39;00m \u001b[38;5;21;01mnetworkx\u001b[39;00m \u001b[38;5;28;01mas\u001b[39;00m \u001b[38;5;21;01mnx\u001b[39;00m\n\u001b[0;32m     10\u001b[0m \u001b[38;5;28;01mfrom\u001b[39;00m \u001b[38;5;21;01mnetworkx\u001b[39;00m\u001b[38;5;21;01m.\u001b[39;00m\u001b[38;5;21;01malgorithms\u001b[39;00m\u001b[38;5;21;01m.\u001b[39;00m\u001b[38;5;21;01mlink_analysis\u001b[39;00m\u001b[38;5;21;01m.\u001b[39;00m\u001b[38;5;21;01mpagerank_alg\u001b[39;00m \u001b[38;5;28;01mimport\u001b[39;00m pagerank\n\u001b[0;32m     11\u001b[0m \u001b[38;5;28;01mfrom\u001b[39;00m \u001b[38;5;21;01mcollections\u001b[39;00m \u001b[38;5;28;01mimport\u001b[39;00m Counter\n",
      "\u001b[1;31mModuleNotFoundError\u001b[0m: No module named 'networkx'"
     ]
    }
   ],
   "source": [
    "import pandas as pd \n",
    "import numpy as np \n",
    "import neo4j\n",
    "\n",
    "import seaborn as sns\n",
    "import warnings\n",
    "from neo4j import GraphDatabase\n",
    "warnings.filterwarnings('ignore')\n",
    "import networkx as nx\n",
    "from networkx.algorithms.link_analysis.pagerank_alg import pagerank\n",
    "from collections import Counter\n",
    "##from pandas_profiling import ProfileReport"
   ]
  },
  {
   "cell_type": "code",
   "execution_count": null,
   "id": "23b35b7f-f94f-4816-8e88-4bde474f62cf",
   "metadata": {},
   "outputs": [],
   "source": [
    "url = \"neo4j+s://9d0eb28d.databases.neo4j.io\"\n",
    "username = \"neo4j\"\n",
    "password = \"\"\n",
    "\n",
    "driver = GraphDatabase.driver(url, auth=(username, password))\n",
    "with driver.session() as session:\n",
    "    result = session.run(\"MATCH (n) RETURN count(n)\")\n",
    "    count = result.single()[0]\n",
    "    print(f\"La conexión con Aura Neo4j se ha establecido correctamente. Hay {count} nodos en la base de datos.\")"
   ]
  },
  {
   "cell_type": "code",
   "execution_count": null,
   "id": "8f8a64ff-8854-4e1c-954a-7f0dc2799d42",
   "metadata": {},
   "outputs": [],
   "source": [
    "# Definir las listas de usuarios y películas permitidos\n",
    "import random\n",
    "usuarios = [1, 2, 666, 7]\n",
    "peliculas = ['tt0000009', 'tt0000147', 'tt0000502', 'tt0000574', 'tt0000591', 'tt0000615', 'tt0000630', 'tt0000675', 'tt0000679', \n",
    "             'tt0000838', 'tt0000842', 'tt0000846', 'tt0000850', 'tt0000859', 'tt0000862', 'tt0000867', 'tt0000868', 'tt0000869', \n",
    "             'tt0000879', 'tt0000886', 'tt0000941', 'tt0000947', 'tt0000959', 'tt0000984', 'tt0001007', 'tt0001010', 'tt0001028', \n",
    "             'tt0001043', 'tt0001049', 'tt0001051', 'tt0001059', 'tt0001069', 'tt0001080', 'tt0001081', 'tt0001082', 'tt0001101', \n",
    "             'tt0001038','tt0001112', 'tt0001113', 'tt0001115', 'tt0001116', 'tt0001122', 'tt0001141', 'tt0001142', 'tt0001147',  \n",
    "             'tt0001175', 'tt0001179','tt0001159', 'tt0001163','tt0001109']\n",
    "\n",
    "# Generar una lista aleatoria de usuarios y películas\n",
    "usuarios_aleatorios = random.choices(usuarios, k=100)\n",
    "peliculas_aleatorias = random.choices(peliculas, k=100)\n",
    "\n",
    "# Crear el dataframe con las columnas \"usuario\" y \"pelicula\"\n",
    "visto = pd.DataFrame({'usuario_id': usuarios_aleatorios, 'pelicula_id': peliculas_aleatorias})\n",
    "\n"
   ]
  },
  {
   "cell_type": "code",
   "execution_count": null,
   "id": "185b7be7-8c57-4a60-87d8-05960901035f",
   "metadata": {},
   "outputs": [],
   "source": [
    "for index, row in visto.iterrows():\n",
    "    user_id = row[\"usuario_id\"]\n",
    "    movie_id = row['pelicula_id']      \n",
    "    with driver.session() as session:    \n",
    "        session.execute_write(\n",
    "            lambda tx: tx.run(\"MATCH(u:User {id: $u_id})\"\n",
    "                              \"MATCH (m:Movie {id: $id}) \"\n",
    "                              \"CREATE (u)-[:IN_VISTAS]->(m)\"\n",
    "                               ,id=movie_id, u_id = user_id))"
   ]
  },
  {
   "cell_type": "code",
   "execution_count": 2,
   "id": "ae3d6d20",
   "metadata": {},
   "outputs": [
    {
     "ename": "NameError",
     "evalue": "name 'driver' is not defined",
     "output_type": "error",
     "traceback": [
      "\u001b[1;31m---------------------------------------------------------------------------\u001b[0m",
      "\u001b[1;31mNameError\u001b[0m                                 Traceback (most recent call last)",
      "Cell \u001b[1;32mIn[2], line 19\u001b[0m\n\u001b[0;32m     17\u001b[0m     \u001b[38;5;28mprint\u001b[39m(\u001b[38;5;124m\"\u001b[39m\u001b[38;5;124mFound \u001b[39m\u001b[38;5;132;01m{record}\u001b[39;00m\u001b[38;5;124m records!\u001b[39m\u001b[38;5;124m\"\u001b[39m\u001b[38;5;241m.\u001b[39m \u001b[38;5;28mformat\u001b[39m(record\u001b[38;5;241m=\u001b[39m\u001b[38;5;28mlen\u001b[39m(records)))\n\u001b[0;32m     18\u001b[0m     \u001b[38;5;28;01mreturn\u001b[39;00m records\n\u001b[1;32m---> 19\u001b[0m a\u001b[38;5;241m=\u001b[39m find , \u001b[43mpelis_action\u001b[49m\u001b[43m(\u001b[49m\u001b[38;5;241;43m1\u001b[39;49m\u001b[43m)\u001b[49m\n",
      "Cell \u001b[1;32mIn[2], line 13\u001b[0m, in \u001b[0;36mpelis_action\u001b[1;34m(password)\u001b[0m\n\u001b[0;32m     11\u001b[0m \u001b[38;5;28;01mdef\u001b[39;00m \u001b[38;5;21mpelis_action\u001b[39m(password):\n\u001b[0;32m     12\u001b[0m     records\u001b[38;5;241m=\u001b[39m[]\n\u001b[1;32m---> 13\u001b[0m     \u001b[38;5;28;01mwith\u001b[39;00m \u001b[43mdriver\u001b[49m\u001b[38;5;241m.\u001b[39msession() \u001b[38;5;28;01mas\u001b[39;00m session:\n\u001b[0;32m     14\u001b[0m         result\u001b[38;5;241m=\u001b[39msession\u001b[38;5;241m.\u001b[39mread_transaction(películas_cliente, password)\n\u001b[0;32m     15\u001b[0m         \u001b[38;5;28;01mfor\u001b[39;00m record \u001b[38;5;129;01min\u001b[39;00m result:\n",
      "\u001b[1;31mNameError\u001b[0m: name 'driver' is not defined"
     ]
    }
   ],
   "source": [
    "#recomendaciones (pagerank)\n",
    "from gettext import find\n",
    "\n",
    "\n",
    "query = \"\"\"MATCH MATCH (G:Genre {name: \"Action\"})-[IN_GENRE]->(m:Movie)\n",
    "RETURN G.name, m.name\n",
    "\"\"\"\n",
    "def películas_cliente(tx, password):\n",
    "    result = tx.run(query, id=password)\n",
    "    return list(result)                 #lista de peliculas\n",
    "def pelis_action(password):\n",
    "    records=[]\n",
    "    with driver.session() as session:\n",
    "        result=session.read_transaction(películas_cliente, password)\n",
    "        for record in result:\n",
    "            records.append(record)\n",
    "    print(\"Found {record} records!\". format(record=len(records)))\n",
    "    return records\n",
    "a= pelis_action(1)   #Resultados películas género acción"
   ]
  },
  {
   "cell_type": "code",
   "execution_count": null,
   "id": "8a6a5937-466e-4885-8a54-632503e967a0",
   "metadata": {},
   "outputs": [],
   "source": [
    "def create_networkx_graph(password):\n",
    "    \n",
    "    val_count  = Counter([(res['m.nombre'],res['m2.nombre']) for res in pelis_action(password) ])\n",
    "    if len(val_count)==0:\n",
    "        print(f\" no records for {password}\")\n",
    "    print(f\"  no of  records for {password} {len(val_count)}\")\n",
    "\n",
    "    recs = pd.DataFrame([[a[0], a[1], val_count[a]] for a in val_count])\n",
    "\n",
    "    G = nx.DiGraph()\n",
    "    #recs= recs.head(20)\n",
    "    total = len(val_count)\n",
    "    for idx , rec in recs.iterrows():\n",
    "        #print(f\"{idx} of {total} loaded\")\n",
    "        G.add_edge(rec[0], rec[1], weight = rec[2])\n",
    "    return G\n",
    "G= create_networkx_graph(password =1)"
   ]
  },
  {
   "cell_type": "code",
   "execution_count": null,
   "id": "56893a01",
   "metadata": {},
   "outputs": [],
   "source": [
    "def run_page_rank(G, password):\n",
    "    pr=pagerank(G)\n",
    "    sorted_pr = {k: v for k, v in sorted(pagerank(G).items(), key=lambda item: item[1], reverse = True)}\n",
    "    df= pd.DataFrame(sorted_pr.items()).assign(password= password)\n",
    "    df['rank'] = df[1].rank(method='dense', ascending=False)\n",
    "    print(f\"done calculating page rank\")\n",
    "    return df\n",
    "df = run_page_rank(G,1)"
   ]
  },
  {
   "cell_type": "code",
   "execution_count": null,
   "id": "aa882c7f",
   "metadata": {},
   "outputs": [],
   "source": [
    "print(df.head(30))"
   ]
  }
 ],
 "metadata": {
  "kernelspec": {
   "display_name": "Python 3 (ipykernel)",
   "language": "python",
   "name": "python3"
  },
  "language_info": {
   "codemirror_mode": {
    "name": "ipython",
    "version": 3
   },
   "file_extension": ".py",
   "mimetype": "text/x-python",
   "name": "python",
   "nbconvert_exporter": "python",
   "pygments_lexer": "ipython3",
   "version": "3.10.9"
  }
 },
 "nbformat": 4,
 "nbformat_minor": 5
}
