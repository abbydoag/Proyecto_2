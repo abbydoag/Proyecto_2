{
 "cells": [
  {
   "cell_type": "code",
   "execution_count": 1,
   "id": "498e3ef0-0aa9-4964-b4d8-947733346632",
   "metadata": {
    "tags": []
   },
   "outputs": [],
   "source": [
    "import pandas as pd \n",
    "import numpy as np \n",
    "import neo4j\n",
    "\n",
    "#import seaborn as sns\n",
    "import warnings\n",
    "warnings.filterwarnings('ignore')\n",
    "##from pandas_profiling import ProfileReport\n"
   ]
  },
  {
   "cell_type": "code",
   "execution_count": 2,
   "id": "0c97bbdf-6a45-4bd3-af8b-8d0710e448d9",
   "metadata": {
    "tags": []
   },
   "outputs": [],
   "source": [
    "def usuarios_nodo(tx, id, password):\n",
    "    tx.run(\"CREATE (:User {id: $id, p: $password})\", id=id, password = password)\n",
    "def peliculas_nodo(tx, nombre, id):\n",
    "    tx.run(\"MERGE (m:Movie {nombre: $nombre,id: $id})\", nombre=nombre,id= id)\n",
    "    \n",
    "def relacion_generos(tx, movie_id, nombre):\n",
    "    tx.run(\"MERGE (m:Movie {nombre: $nombre,id: $id})\", nombre=nombre,id= id)\n",
    "\n",
    "\n",
    "\n"
   ]
  },
  {
   "cell_type": "code",
   "execution_count": 3,
   "id": "86d29680-f191-4e91-8136-76d3f30a29fb",
   "metadata": {
    "tags": []
   },
   "outputs": [],
   "source": [
    "data=pd.read_csv('data.tsv',sep='\\t')"
   ]
  },
  {
   "cell_type": "code",
   "execution_count": 4,
   "id": "df81f166-edec-4bee-8795-74e75f5487c1",
   "metadata": {
    "tags": []
   },
   "outputs": [
    {
     "name": "stdout",
     "output_type": "stream",
     "text": [
      "['thriller', 'comedy', 'adventure', 'family', 'animation', 'biography', '666', 'short', 'romance', 'action', 'drama', 'horror', 'sport', 'mystery', 'adult', 'war', 'news', 'history', 'fantasy', 'musical', 'game-show', 'film-noir', 'talk-show', 'music', 'sci-fi', 'documentary', 'western', 'crime', 'reality-tv']\n"
     ]
    },
    {
     "data": {
      "text/html": [
       "<div>\n",
       "<style scoped>\n",
       "    .dataframe tbody tr th:only-of-type {\n",
       "        vertical-align: middle;\n",
       "    }\n",
       "\n",
       "    .dataframe tbody tr th {\n",
       "        vertical-align: top;\n",
       "    }\n",
       "\n",
       "    .dataframe thead th {\n",
       "        text-align: right;\n",
       "    }\n",
       "</style>\n",
       "<table border=\"1\" class=\"dataframe\">\n",
       "  <thead>\n",
       "    <tr style=\"text-align: right;\">\n",
       "      <th></th>\n",
       "      <th>tconst</th>\n",
       "      <th>titleType</th>\n",
       "      <th>primaryTitle</th>\n",
       "      <th>originalTitle</th>\n",
       "      <th>isAdult</th>\n",
       "      <th>startYear</th>\n",
       "      <th>endYear</th>\n",
       "      <th>runtimeMinutes</th>\n",
       "      <th>genres</th>\n",
       "      <th>tiempo_rank</th>\n",
       "    </tr>\n",
       "  </thead>\n",
       "  <tbody>\n",
       "    <tr>\n",
       "      <th>8</th>\n",
       "      <td>tt0000009</td>\n",
       "      <td>movie</td>\n",
       "      <td>miss jerry</td>\n",
       "      <td>miss jerry</td>\n",
       "      <td>0</td>\n",
       "      <td>1894.0</td>\n",
       "      <td>NaN</td>\n",
       "      <td>45.0</td>\n",
       "      <td>[romance]</td>\n",
       "      <td>0.0</td>\n",
       "    </tr>\n",
       "    <tr>\n",
       "      <th>144</th>\n",
       "      <td>tt0000147</td>\n",
       "      <td>movie</td>\n",
       "      <td>the corbett-fitzsimmons fight</td>\n",
       "      <td>the corbett-fitzsimmons fight</td>\n",
       "      <td>0</td>\n",
       "      <td>1897.0</td>\n",
       "      <td>NaN</td>\n",
       "      <td>100.0</td>\n",
       "      <td>[documentary, news, sport]</td>\n",
       "      <td>7.0</td>\n",
       "    </tr>\n",
       "    <tr>\n",
       "      <th>498</th>\n",
       "      <td>tt0000502</td>\n",
       "      <td>movie</td>\n",
       "      <td>bohemios</td>\n",
       "      <td>bohemios</td>\n",
       "      <td>0</td>\n",
       "      <td>1905.0</td>\n",
       "      <td>NaN</td>\n",
       "      <td>100.0</td>\n",
       "      <td>[666]</td>\n",
       "      <td>7.0</td>\n",
       "    </tr>\n",
       "    <tr>\n",
       "      <th>570</th>\n",
       "      <td>tt0000574</td>\n",
       "      <td>movie</td>\n",
       "      <td>the story of the kelly gang</td>\n",
       "      <td>the story of the kelly gang</td>\n",
       "      <td>0</td>\n",
       "      <td>1906.0</td>\n",
       "      <td>NaN</td>\n",
       "      <td>70.0</td>\n",
       "      <td>[action, adventure, biography]</td>\n",
       "      <td>2.0</td>\n",
       "    </tr>\n",
       "    <tr>\n",
       "      <th>587</th>\n",
       "      <td>tt0000591</td>\n",
       "      <td>movie</td>\n",
       "      <td>the prodigal son</td>\n",
       "      <td>l'enfant prodigue</td>\n",
       "      <td>0</td>\n",
       "      <td>1907.0</td>\n",
       "      <td>NaN</td>\n",
       "      <td>90.0</td>\n",
       "      <td>[drama]</td>\n",
       "      <td>5.0</td>\n",
       "    </tr>\n",
       "  </tbody>\n",
       "</table>\n",
       "</div>"
      ],
      "text/plain": [
       "        tconst titleType                   primaryTitle  \\\n",
       "8    tt0000009     movie                     miss jerry   \n",
       "144  tt0000147     movie  the corbett-fitzsimmons fight   \n",
       "498  tt0000502     movie                       bohemios   \n",
       "570  tt0000574     movie    the story of the kelly gang   \n",
       "587  tt0000591     movie               the prodigal son   \n",
       "\n",
       "                     originalTitle  isAdult  startYear  endYear  \\\n",
       "8                       miss jerry        0     1894.0      NaN   \n",
       "144  the corbett-fitzsimmons fight        0     1897.0      NaN   \n",
       "498                       bohemios        0     1905.0      NaN   \n",
       "570    the story of the kelly gang        0     1906.0      NaN   \n",
       "587              l'enfant prodigue        0     1907.0      NaN   \n",
       "\n",
       "     runtimeMinutes                          genres  tiempo_rank  \n",
       "8              45.0                       [romance]          0.0  \n",
       "144           100.0      [documentary, news, sport]          7.0  \n",
       "498           100.0                           [666]          7.0  \n",
       "570            70.0  [action, adventure, biography]          2.0  \n",
       "587            90.0                         [drama]          5.0  "
      ]
     },
     "execution_count": 4,
     "metadata": {},
     "output_type": "execute_result"
    }
   ],
   "source": [
    "\n",
    "data.head()\n",
    "data_1=data.dropna()\n",
    "data_1.replace(\"\\\\N\", value = np.nan, inplace = True)\n",
    "data_1[\"genres\"]=data_1[\"genres\"].replace(np.nan, value = \"666\")\n",
    "data_1.infer_objects()\n",
    "\n",
    "data_1[\"titleType\"]=data_1[\"titleType\"].str.lower()\n",
    "data_1[\"primaryTitle\"]=data_1[\"primaryTitle\"].str.lower()\n",
    "data_1[\"originalTitle\"]=data_1[\"originalTitle\"].str.lower()\n",
    "data_1[\"genres\"]=data_1[\"genres\"].str.lower()\n",
    "data_1=data_1[data_1[\"titleType\"]==\"movie\"]\n",
    "\n",
    "\n",
    "data_1['isAdult']=pd.to_numeric(data_1['isAdult'])\n",
    "data_1[\"startYear\"]=pd.to_numeric(data_1[\"startYear\"])\n",
    "data_1[\"runtimeMinutes\"]=pd.to_numeric(data_1[\"runtimeMinutes\"])\n",
    "data_1[\"endYear\"]=pd.to_numeric(data_1[\"endYear\"])\n",
    "\n",
    "a=data_1[\"genres\"].unique()\n",
    "unique_genres = set()\n",
    "\n",
    "# Iterar sobre cada cadena de géneros en el arreglo\n",
    "for genres in a:\n",
    "    # Convertir la cadena en una lista de géneros\n",
    "    if type(genres) == str:\n",
    "        genre_list = genres.split(',')\n",
    "        # Agregar cada género único al conjunto\n",
    "        unique_genres.update(genre_list)\n",
    "\n",
    "# Convertir el conjunto de vuelta en una lista\n",
    "unique_genres_list = list(unique_genres)\n",
    "print(unique_genres_list)\n",
    "\n",
    "data_1[\"tiempo_rank\"]=pd.qcut(data_1[\"runtimeMinutes\"], 10,labels = False)\n",
    "data_1[\"genres\"]=data_1[\"genres\"].astype(str)\n",
    "data_1['genres'] = [x.strip('()').split(',') for x in data_1['genres']]\n",
    "data_1.head()\n"
   ]
  },
  {
   "cell_type": "code",
   "execution_count": 5,
   "id": "40c1b385-3288-46f7-ad20-c4ff30e749bb",
   "metadata": {
    "tags": []
   },
   "outputs": [
    {
     "data": {
      "text/html": [
       "<div>\n",
       "<style scoped>\n",
       "    .dataframe tbody tr th:only-of-type {\n",
       "        vertical-align: middle;\n",
       "    }\n",
       "\n",
       "    .dataframe tbody tr th {\n",
       "        vertical-align: top;\n",
       "    }\n",
       "\n",
       "    .dataframe thead th {\n",
       "        text-align: right;\n",
       "    }\n",
       "</style>\n",
       "<table border=\"1\" class=\"dataframe\">\n",
       "  <thead>\n",
       "    <tr style=\"text-align: right;\">\n",
       "      <th></th>\n",
       "      <th>tconst</th>\n",
       "      <th>titleType</th>\n",
       "      <th>primaryTitle</th>\n",
       "      <th>originalTitle</th>\n",
       "      <th>isAdult</th>\n",
       "      <th>startYear</th>\n",
       "      <th>endYear</th>\n",
       "      <th>runtimeMinutes</th>\n",
       "      <th>genres</th>\n",
       "    </tr>\n",
       "  </thead>\n",
       "  <tbody>\n",
       "    <tr>\n",
       "      <th>0</th>\n",
       "      <td>tt0000001</td>\n",
       "      <td>short</td>\n",
       "      <td>Carmencita</td>\n",
       "      <td>Carmencita</td>\n",
       "      <td>0</td>\n",
       "      <td>1894</td>\n",
       "      <td>\\N</td>\n",
       "      <td>1</td>\n",
       "      <td>Documentary,Short</td>\n",
       "    </tr>\n",
       "    <tr>\n",
       "      <th>1</th>\n",
       "      <td>tt0000002</td>\n",
       "      <td>short</td>\n",
       "      <td>Le clown et ses chiens</td>\n",
       "      <td>Le clown et ses chiens</td>\n",
       "      <td>0</td>\n",
       "      <td>1892</td>\n",
       "      <td>\\N</td>\n",
       "      <td>5</td>\n",
       "      <td>Animation,Short</td>\n",
       "    </tr>\n",
       "    <tr>\n",
       "      <th>2</th>\n",
       "      <td>tt0000003</td>\n",
       "      <td>short</td>\n",
       "      <td>Pauvre Pierrot</td>\n",
       "      <td>Pauvre Pierrot</td>\n",
       "      <td>0</td>\n",
       "      <td>1892</td>\n",
       "      <td>\\N</td>\n",
       "      <td>4</td>\n",
       "      <td>Animation,Comedy,Romance</td>\n",
       "    </tr>\n",
       "    <tr>\n",
       "      <th>3</th>\n",
       "      <td>tt0000004</td>\n",
       "      <td>short</td>\n",
       "      <td>Un bon bock</td>\n",
       "      <td>Un bon bock</td>\n",
       "      <td>0</td>\n",
       "      <td>1892</td>\n",
       "      <td>\\N</td>\n",
       "      <td>12</td>\n",
       "      <td>Animation,Short</td>\n",
       "    </tr>\n",
       "    <tr>\n",
       "      <th>4</th>\n",
       "      <td>tt0000005</td>\n",
       "      <td>short</td>\n",
       "      <td>Blacksmith Scene</td>\n",
       "      <td>Blacksmith Scene</td>\n",
       "      <td>0</td>\n",
       "      <td>1893</td>\n",
       "      <td>\\N</td>\n",
       "      <td>1</td>\n",
       "      <td>Comedy,Short</td>\n",
       "    </tr>\n",
       "  </tbody>\n",
       "</table>\n",
       "</div>"
      ],
      "text/plain": [
       "      tconst titleType            primaryTitle           originalTitle  \\\n",
       "0  tt0000001     short              Carmencita              Carmencita   \n",
       "1  tt0000002     short  Le clown et ses chiens  Le clown et ses chiens   \n",
       "2  tt0000003     short          Pauvre Pierrot          Pauvre Pierrot   \n",
       "3  tt0000004     short             Un bon bock             Un bon bock   \n",
       "4  tt0000005     short        Blacksmith Scene        Blacksmith Scene   \n",
       "\n",
       "  isAdult startYear endYear runtimeMinutes                    genres  \n",
       "0       0      1894      \\N              1         Documentary,Short  \n",
       "1       0      1892      \\N              5           Animation,Short  \n",
       "2       0      1892      \\N              4  Animation,Comedy,Romance  \n",
       "3       0      1892      \\N             12           Animation,Short  \n",
       "4       0      1893      \\N              1              Comedy,Short  "
      ]
     },
     "execution_count": 5,
     "metadata": {},
     "output_type": "execute_result"
    }
   ],
   "source": [
    "data.head()"
   ]
  },
  {
   "cell_type": "code",
   "execution_count": 6,
   "id": "91165fc8-b97d-4227-988f-929c80887311",
   "metadata": {
    "tags": []
   },
   "outputs": [],
   "source": [
    "links=pd.read_csv('links.csv')"
   ]
  },
  {
   "cell_type": "code",
   "execution_count": 7,
   "id": "8d82747c-2447-4b83-9da5-b3dceb886a04",
   "metadata": {
    "tags": []
   },
   "outputs": [],
   "source": [
    "peliculas=data_1[\"tconst\"].unique()\n"
   ]
  },
  {
   "cell_type": "code",
   "execution_count": 9,
   "id": "8a48d292-6237-4410-9488-44dcc63671f9",
   "metadata": {
    "tags": []
   },
   "outputs": [],
   "source": [
    "links.columns\n",
    "a=len(links[\"movieId\"].unique())"
   ]
  },
  {
   "cell_type": "code",
   "execution_count": 10,
   "id": "d32c7802-edee-4565-a0c2-44c054f185f6",
   "metadata": {
    "tags": []
   },
   "outputs": [],
   "source": [
    "import random\n",
    "movies=random.choices(peliculas, k=a)\n",
    "data_movies = data_1[data_1[\"tconst\"].isin(movies)]"
   ]
  },
  {
   "cell_type": "code",
   "execution_count": 11,
   "id": "d81453a8-1d80-48cf-b294-72234144728d",
   "metadata": {
    "tags": []
   },
   "outputs": [],
   "source": [
    "links[\"imdb\"]=movies\n",
    "class_map=dict(zip(links.movieId,links.imdb))"
   ]
  },
  {
   "cell_type": "code",
   "execution_count": 12,
   "id": "fab0c96b-42ca-410d-acd4-d5087e2174f2",
   "metadata": {
    "tags": []
   },
   "outputs": [],
   "source": [
    "ratings=pd.read_csv('ratings.csv')\n",
    "ratings[\"imdb\"]=ratings[\"movieId\"].map(class_map)\n"
   ]
  },
  {
   "cell_type": "code",
   "execution_count": 13,
   "id": "4fc62829-9e4e-455e-8a3f-c182ee23072b",
   "metadata": {
    "tags": []
   },
   "outputs": [],
   "source": [
    "seleccionadas=random.choices(movies, k=1000)\n",
    "usuarios = ratings[\"userId\"].to_list()\n",
    "\n",
    "usuarios_aleatorios = random.choices(usuarios, k=200)\n",
    "peliculas_aleatorias = random.choices(seleccionadas, k=200)\n",
    "\n",
    "# Crear el dataframe con las columnas \"usuario\" y \"pelicula\"\n",
    "visto = pd.DataFrame({'usuario_id': usuarios_aleatorios, 'pelicula_id': peliculas_aleatorias})\n"
   ]
  },
  {
   "cell_type": "code",
   "execution_count": 32,
   "id": "e6826f62-7575-4d7f-bce5-13dfd5a551c8",
   "metadata": {
    "tags": []
   },
   "outputs": [
    {
     "name": "stdout",
     "output_type": "stream",
     "text": [
      "La conexión con Aura Neo4j se ha establecido correctamente. Hay 1163 nodos en la base de datos.\n"
     ]
    }
   ],
   "source": [
    "from neo4j import GraphDatabase\n",
    "\n",
    "\n",
    "url = \"neo4j+s://9d0eb28d.databases.neo4j.io\"\n",
    "username = \"neo4j\"\n",
    "password = \"ZsZO3ya5YB8EcmVwmxYEqn6Amj_Z7R4t_6VDU5oMIeI\"\n",
    "\n",
    "driver = GraphDatabase.driver(url, auth=(username, password))\n",
    "#with driver.session() as session:\n",
    "#    session.run(\"MATCH (n) DETACH DELETE n\")\n",
    "with driver.session() as session:\n",
    "    result = session.run(\"MATCH (n) RETURN count(n)\")\n",
    "    count = result.single()[0]\n",
    "    print(f\"La conexión con Aura Neo4j se ha establecido correctamente. Hay {count} nodos en la base de datos.\")\n",
    "    "
   ]
  },
  {
   "cell_type": "code",
   "execution_count": 15,
   "id": "e055c74d-2719-435a-bbf7-b26781b1fc3c",
   "metadata": {
    "tags": []
   },
   "outputs": [],
   "source": [
    "data_movies = data_1[data_1[\"tconst\"].isin(seleccionadas)]\n",
    "usuarios = visto[\"usuario_id\"].unique()\n",
    "contraseña=random.choices(range(1000,9999), k= len(usuarios))"
   ]
  },
  {
   "cell_type": "code",
   "execution_count": 16,
   "id": "71870290-8f28-4747-adff-f83eec1f2fb5",
   "metadata": {
    "tags": []
   },
   "outputs": [],
   "source": [
    "demograficos = pd.DataFrame({'usuario_id': usuarios, 'password': contraseña})"
   ]
  },
  {
   "cell_type": "code",
   "execution_count": 17,
   "id": "fe4a0978-f460-4ee0-bcea-76fbb0b0d3e8",
   "metadata": {
    "tags": []
   },
   "outputs": [],
   "source": [
    "resultado = pd.merge(visto, demograficos, on='usuario_id')"
   ]
  },
  {
   "cell_type": "code",
   "execution_count": 18,
   "id": "9bba0136-500e-4eac-9f63-7e49c82c2512",
   "metadata": {
    "tags": []
   },
   "outputs": [
    {
     "data": {
      "text/html": [
       "<div>\n",
       "<style scoped>\n",
       "    .dataframe tbody tr th:only-of-type {\n",
       "        vertical-align: middle;\n",
       "    }\n",
       "\n",
       "    .dataframe tbody tr th {\n",
       "        vertical-align: top;\n",
       "    }\n",
       "\n",
       "    .dataframe thead th {\n",
       "        text-align: right;\n",
       "    }\n",
       "</style>\n",
       "<table border=\"1\" class=\"dataframe\">\n",
       "  <thead>\n",
       "    <tr style=\"text-align: right;\">\n",
       "      <th></th>\n",
       "      <th>usuario_id</th>\n",
       "      <th>pelicula_id</th>\n",
       "      <th>password</th>\n",
       "    </tr>\n",
       "  </thead>\n",
       "  <tbody>\n",
       "    <tr>\n",
       "      <th>0</th>\n",
       "      <td>473</td>\n",
       "      <td>tt3391072</td>\n",
       "      <td>5078</td>\n",
       "    </tr>\n",
       "    <tr>\n",
       "      <th>1</th>\n",
       "      <td>473</td>\n",
       "      <td>tt0035071</td>\n",
       "      <td>5078</td>\n",
       "    </tr>\n",
       "    <tr>\n",
       "      <th>2</th>\n",
       "      <td>592</td>\n",
       "      <td>tt0354053</td>\n",
       "      <td>9487</td>\n",
       "    </tr>\n",
       "    <tr>\n",
       "      <th>3</th>\n",
       "      <td>592</td>\n",
       "      <td>tt0057685</td>\n",
       "      <td>9487</td>\n",
       "    </tr>\n",
       "    <tr>\n",
       "      <th>4</th>\n",
       "      <td>122</td>\n",
       "      <td>tt2609372</td>\n",
       "      <td>9663</td>\n",
       "    </tr>\n",
       "    <tr>\n",
       "      <th>...</th>\n",
       "      <td>...</td>\n",
       "      <td>...</td>\n",
       "      <td>...</td>\n",
       "    </tr>\n",
       "    <tr>\n",
       "      <th>195</th>\n",
       "      <td>68</td>\n",
       "      <td>tt17061866</td>\n",
       "      <td>3810</td>\n",
       "    </tr>\n",
       "    <tr>\n",
       "      <th>196</th>\n",
       "      <td>246</td>\n",
       "      <td>tt23741924</td>\n",
       "      <td>1869</td>\n",
       "    </tr>\n",
       "    <tr>\n",
       "      <th>197</th>\n",
       "      <td>347</td>\n",
       "      <td>tt4550970</td>\n",
       "      <td>4895</td>\n",
       "    </tr>\n",
       "    <tr>\n",
       "      <th>198</th>\n",
       "      <td>96</td>\n",
       "      <td>tt4247244</td>\n",
       "      <td>9513</td>\n",
       "    </tr>\n",
       "    <tr>\n",
       "      <th>199</th>\n",
       "      <td>463</td>\n",
       "      <td>tt0197963</td>\n",
       "      <td>9563</td>\n",
       "    </tr>\n",
       "  </tbody>\n",
       "</table>\n",
       "<p>200 rows × 3 columns</p>\n",
       "</div>"
      ],
      "text/plain": [
       "     usuario_id pelicula_id  password\n",
       "0           473   tt3391072      5078\n",
       "1           473   tt0035071      5078\n",
       "2           592   tt0354053      9487\n",
       "3           592   tt0057685      9487\n",
       "4           122   tt2609372      9663\n",
       "..          ...         ...       ...\n",
       "195          68  tt17061866      3810\n",
       "196         246  tt23741924      1869\n",
       "197         347   tt4550970      4895\n",
       "198          96   tt4247244      9513\n",
       "199         463   tt0197963      9563\n",
       "\n",
       "[200 rows x 3 columns]"
      ]
     },
     "execution_count": 18,
     "metadata": {},
     "output_type": "execute_result"
    }
   ],
   "source": [
    "resultado"
   ]
  },
  {
   "cell_type": "code",
   "execution_count": 19,
   "id": "8a0596bf-ef55-41f8-beaf-536708f154e8",
   "metadata": {
    "tags": []
   },
   "outputs": [],
   "source": [
    "for i in unique_genres_list: \n",
    "     with driver.session() as session:\n",
    "        session.execute_write(\n",
    "            lambda tx: tx.run(\"MERGE (m:Genre {nombre: $nombre})\", nombre=i)\n",
    "        )\n",
    "        \n"
   ]
  },
  {
   "cell_type": "markdown",
   "id": "6a4487d1-00ee-4667-b3ac-0df757f06dd1",
   "metadata": {
    "tags": []
   },
   "source": []
  },
  {
   "cell_type": "code",
   "execution_count": 36,
   "id": "0d5141f9-f617-465e-bab1-4ab9ea265adc",
   "metadata": {
    "tags": []
   },
   "outputs": [
    {
     "name": "stdout",
     "output_type": "stream",
     "text": [
      "thriller\n",
      "comedy\n",
      "adventure\n",
      "family\n",
      "animation\n",
      "biography\n",
      "666\n",
      "short\n",
      "romance\n",
      "action\n",
      "drama\n",
      "horror\n",
      "sport\n",
      "mystery\n",
      "adult\n",
      "war\n",
      "news\n",
      "history\n",
      "fantasy\n",
      "musical\n",
      "game-show\n",
      "film-noir\n",
      "talk-show\n",
      "music\n",
      "sci-fi\n",
      "documentary\n",
      "western\n",
      "crime\n",
      "reality-tv\n"
     ]
    }
   ],
   "source": [
    "for i in unique_genres_list: \n",
    "    print(i)"
   ]
  },
  {
   "cell_type": "code",
   "execution_count": 20,
   "id": "f6cc18fd-5291-4aaf-8e4e-973b2aec0ef8",
   "metadata": {
    "tags": []
   },
   "outputs": [],
   "source": [
    "for index, row in data_movies.iterrows():\n",
    "    movie_id = row[\"tconst\"]\n",
    "    title = row[\"originalTitle\"]\n",
    "    genres = row[\"genres\"] \n",
    "    with driver.session() as session:\n",
    "        session.write_transaction(peliculas_nodo,nombre=title, id = movie_id)"
   ]
  },
  {
   "cell_type": "code",
   "execution_count": 21,
   "id": "c3046b03-ce8e-4c57-a817-879d02d8fe12",
   "metadata": {
    "tags": []
   },
   "outputs": [
    {
     "data": {
      "text/html": [
       "<div>\n",
       "<style scoped>\n",
       "    .dataframe tbody tr th:only-of-type {\n",
       "        vertical-align: middle;\n",
       "    }\n",
       "\n",
       "    .dataframe tbody tr th {\n",
       "        vertical-align: top;\n",
       "    }\n",
       "\n",
       "    .dataframe thead th {\n",
       "        text-align: right;\n",
       "    }\n",
       "</style>\n",
       "<table border=\"1\" class=\"dataframe\">\n",
       "  <thead>\n",
       "    <tr style=\"text-align: right;\">\n",
       "      <th></th>\n",
       "      <th>userId</th>\n",
       "      <th>movieId</th>\n",
       "      <th>rating</th>\n",
       "      <th>timestamp</th>\n",
       "      <th>imdb</th>\n",
       "    </tr>\n",
       "  </thead>\n",
       "  <tbody>\n",
       "    <tr>\n",
       "      <th>0</th>\n",
       "      <td>1</td>\n",
       "      <td>1</td>\n",
       "      <td>4.0</td>\n",
       "      <td>964982703</td>\n",
       "      <td>tt4460252</td>\n",
       "    </tr>\n",
       "    <tr>\n",
       "      <th>1</th>\n",
       "      <td>1</td>\n",
       "      <td>3</td>\n",
       "      <td>4.0</td>\n",
       "      <td>964981247</td>\n",
       "      <td>tt0098992</td>\n",
       "    </tr>\n",
       "    <tr>\n",
       "      <th>2</th>\n",
       "      <td>1</td>\n",
       "      <td>6</td>\n",
       "      <td>4.0</td>\n",
       "      <td>964982224</td>\n",
       "      <td>tt12193098</td>\n",
       "    </tr>\n",
       "    <tr>\n",
       "      <th>3</th>\n",
       "      <td>1</td>\n",
       "      <td>47</td>\n",
       "      <td>5.0</td>\n",
       "      <td>964983815</td>\n",
       "      <td>tt5884910</td>\n",
       "    </tr>\n",
       "    <tr>\n",
       "      <th>4</th>\n",
       "      <td>1</td>\n",
       "      <td>50</td>\n",
       "      <td>5.0</td>\n",
       "      <td>964982931</td>\n",
       "      <td>tt8448696</td>\n",
       "    </tr>\n",
       "    <tr>\n",
       "      <th>...</th>\n",
       "      <td>...</td>\n",
       "      <td>...</td>\n",
       "      <td>...</td>\n",
       "      <td>...</td>\n",
       "      <td>...</td>\n",
       "    </tr>\n",
       "    <tr>\n",
       "      <th>100831</th>\n",
       "      <td>610</td>\n",
       "      <td>166534</td>\n",
       "      <td>4.0</td>\n",
       "      <td>1493848402</td>\n",
       "      <td>tt21986414</td>\n",
       "    </tr>\n",
       "    <tr>\n",
       "      <th>100832</th>\n",
       "      <td>610</td>\n",
       "      <td>168248</td>\n",
       "      <td>5.0</td>\n",
       "      <td>1493850091</td>\n",
       "      <td>tt12698702</td>\n",
       "    </tr>\n",
       "    <tr>\n",
       "      <th>100833</th>\n",
       "      <td>610</td>\n",
       "      <td>168250</td>\n",
       "      <td>5.0</td>\n",
       "      <td>1494273047</td>\n",
       "      <td>tt8417690</td>\n",
       "    </tr>\n",
       "    <tr>\n",
       "      <th>100834</th>\n",
       "      <td>610</td>\n",
       "      <td>168252</td>\n",
       "      <td>5.0</td>\n",
       "      <td>1493846352</td>\n",
       "      <td>tt2136889</td>\n",
       "    </tr>\n",
       "    <tr>\n",
       "      <th>100835</th>\n",
       "      <td>610</td>\n",
       "      <td>170875</td>\n",
       "      <td>3.0</td>\n",
       "      <td>1493846415</td>\n",
       "      <td>tt0230294</td>\n",
       "    </tr>\n",
       "  </tbody>\n",
       "</table>\n",
       "<p>100836 rows × 5 columns</p>\n",
       "</div>"
      ],
      "text/plain": [
       "        userId  movieId  rating   timestamp        imdb\n",
       "0            1        1     4.0   964982703   tt4460252\n",
       "1            1        3     4.0   964981247   tt0098992\n",
       "2            1        6     4.0   964982224  tt12193098\n",
       "3            1       47     5.0   964983815   tt5884910\n",
       "4            1       50     5.0   964982931   tt8448696\n",
       "...        ...      ...     ...         ...         ...\n",
       "100831     610   166534     4.0  1493848402  tt21986414\n",
       "100832     610   168248     5.0  1493850091  tt12698702\n",
       "100833     610   168250     5.0  1494273047   tt8417690\n",
       "100834     610   168252     5.0  1493846352   tt2136889\n",
       "100835     610   170875     3.0  1493846415   tt0230294\n",
       "\n",
       "[100836 rows x 5 columns]"
      ]
     },
     "execution_count": 21,
     "metadata": {},
     "output_type": "execute_result"
    }
   ],
   "source": [
    "ratings"
   ]
  },
  {
   "cell_type": "code",
   "execution_count": 22,
   "id": "504f1494-5f2d-48fe-b432-6be89647a1f8",
   "metadata": {
    "tags": []
   },
   "outputs": [],
   "source": [
    "for index, row in resultado.iterrows():\n",
    "    u_id = row[\"usuario_id\"]\n",
    "    password = row[\"password\"]\n",
    "    with driver.session() as session:\n",
    "        session.write_transaction(usuarios_nodo,id = u_id,password = password)\n",
    "       \n",
    "    "
   ]
  },
  {
   "cell_type": "code",
   "execution_count": 23,
   "id": "17b6e3ec-fafa-4ab5-a028-30b2560756c5",
   "metadata": {
    "tags": []
   },
   "outputs": [
    {
     "data": {
      "text/html": [
       "<div>\n",
       "<style scoped>\n",
       "    .dataframe tbody tr th:only-of-type {\n",
       "        vertical-align: middle;\n",
       "    }\n",
       "\n",
       "    .dataframe tbody tr th {\n",
       "        vertical-align: top;\n",
       "    }\n",
       "\n",
       "    .dataframe thead th {\n",
       "        text-align: right;\n",
       "    }\n",
       "</style>\n",
       "<table border=\"1\" class=\"dataframe\">\n",
       "  <thead>\n",
       "    <tr style=\"text-align: right;\">\n",
       "      <th></th>\n",
       "      <th>usuario_id</th>\n",
       "      <th>pelicula_id</th>\n",
       "      <th>password</th>\n",
       "    </tr>\n",
       "  </thead>\n",
       "  <tbody>\n",
       "    <tr>\n",
       "      <th>0</th>\n",
       "      <td>473</td>\n",
       "      <td>tt3391072</td>\n",
       "      <td>5078</td>\n",
       "    </tr>\n",
       "    <tr>\n",
       "      <th>1</th>\n",
       "      <td>473</td>\n",
       "      <td>tt0035071</td>\n",
       "      <td>5078</td>\n",
       "    </tr>\n",
       "    <tr>\n",
       "      <th>2</th>\n",
       "      <td>592</td>\n",
       "      <td>tt0354053</td>\n",
       "      <td>9487</td>\n",
       "    </tr>\n",
       "    <tr>\n",
       "      <th>3</th>\n",
       "      <td>592</td>\n",
       "      <td>tt0057685</td>\n",
       "      <td>9487</td>\n",
       "    </tr>\n",
       "    <tr>\n",
       "      <th>4</th>\n",
       "      <td>122</td>\n",
       "      <td>tt2609372</td>\n",
       "      <td>9663</td>\n",
       "    </tr>\n",
       "    <tr>\n",
       "      <th>...</th>\n",
       "      <td>...</td>\n",
       "      <td>...</td>\n",
       "      <td>...</td>\n",
       "    </tr>\n",
       "    <tr>\n",
       "      <th>195</th>\n",
       "      <td>68</td>\n",
       "      <td>tt17061866</td>\n",
       "      <td>3810</td>\n",
       "    </tr>\n",
       "    <tr>\n",
       "      <th>196</th>\n",
       "      <td>246</td>\n",
       "      <td>tt23741924</td>\n",
       "      <td>1869</td>\n",
       "    </tr>\n",
       "    <tr>\n",
       "      <th>197</th>\n",
       "      <td>347</td>\n",
       "      <td>tt4550970</td>\n",
       "      <td>4895</td>\n",
       "    </tr>\n",
       "    <tr>\n",
       "      <th>198</th>\n",
       "      <td>96</td>\n",
       "      <td>tt4247244</td>\n",
       "      <td>9513</td>\n",
       "    </tr>\n",
       "    <tr>\n",
       "      <th>199</th>\n",
       "      <td>463</td>\n",
       "      <td>tt0197963</td>\n",
       "      <td>9563</td>\n",
       "    </tr>\n",
       "  </tbody>\n",
       "</table>\n",
       "<p>200 rows × 3 columns</p>\n",
       "</div>"
      ],
      "text/plain": [
       "     usuario_id pelicula_id  password\n",
       "0           473   tt3391072      5078\n",
       "1           473   tt0035071      5078\n",
       "2           592   tt0354053      9487\n",
       "3           592   tt0057685      9487\n",
       "4           122   tt2609372      9663\n",
       "..          ...         ...       ...\n",
       "195          68  tt17061866      3810\n",
       "196         246  tt23741924      1869\n",
       "197         347   tt4550970      4895\n",
       "198          96   tt4247244      9513\n",
       "199         463   tt0197963      9563\n",
       "\n",
       "[200 rows x 3 columns]"
      ]
     },
     "execution_count": 23,
     "metadata": {},
     "output_type": "execute_result"
    }
   ],
   "source": [
    "resultado"
   ]
  },
  {
   "cell_type": "code",
   "execution_count": 27,
   "id": "45ed6981-4373-4966-99fd-992d633dbea3",
   "metadata": {
    "tags": []
   },
   "outputs": [],
   "source": [
    "def relacion_generos(tx, movie_id, genre):\n",
    "    tx.run(\"MATCH (g:Genre {nombre: $nombre}) \"\n",
    "            \"MATCH (m:Movie {id: $id}) \"\n",
    "            \"CREATE (m)-[:IN_GENRE]->(g)\"\n",
    "            , nombre=genre, id=movie_id)\n",
    "    \n",
    "for index, row in data_movies.iterrows():\n",
    "    movie_id = row[\"tconst\"]\n",
    "    title = row[\"originalTitle\"]\n",
    "    genres = row[\"genres\"]\n",
    "    for genre in genres:\n",
    "        with driver.session() as session:\n",
    "            session.write_transaction(relacion_generos,genre=genre,movie_id= movie_id)\n",
    "            "
   ]
  },
  {
   "cell_type": "code",
   "execution_count": 33,
   "id": "e8fd51eb-a421-44e3-a3f5-d2dfde5dc41f",
   "metadata": {
    "tags": []
   },
   "outputs": [],
   "source": [
    "def relacion_vistas(tx, movie_id, u_id):\n",
    "    tx.run(\"MATCH(u:User {id: $u_id})\"\n",
    "                              \"MATCH (m:Movie {id: $id}) \"\n",
    "                              \"CREATE (u)-[:IN_VISTAS]->(m)\"\n",
    "            , u_id=u_id, id=movie_id)\n",
    "for index, row in resultado.iterrows():\n",
    "    user_id = row[\"usuario_id\"]\n",
    "    movie_id = row['pelicula_id']      \n",
    "    with driver.session() as session:    \n",
    "        session.write_transaction(relacion_vistas,u_id=user_id, movie_id = movie_id)\n",
    "            \n",
    "            "
   ]
  },
  {
   "cell_type": "code",
   "execution_count": null,
   "id": "7c71e80a-3e5f-4bc6-971d-47ad03aed3f7",
   "metadata": {},
   "outputs": [],
   "source": []
  }
 ],
 "metadata": {
  "kernelspec": {
   "display_name": "Python 3 (ipykernel)",
   "language": "python",
   "name": "python3"
  },
  "language_info": {
   "codemirror_mode": {
    "name": "ipython",
    "version": 3
   },
   "file_extension": ".py",
   "mimetype": "text/x-python",
   "name": "python",
   "nbconvert_exporter": "python",
   "pygments_lexer": "ipython3",
   "version": "3.8.16"
  }
 },
 "nbformat": 4,
 "nbformat_minor": 5
}
