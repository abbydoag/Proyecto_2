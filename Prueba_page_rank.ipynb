{
 "cells": [
  {
   "cell_type": "code",
   "execution_count": 24,
   "id": "ffebbeab-0e0e-40df-ae76-9ca8cc3aa960",
   "metadata": {},
   "outputs": [],
   "source": [
    "import pandas as pd \n",
    "import numpy as np \n",
    "import neo4j\n",
    "\n",
    "\n",
    "import seaborn as sns\n",
    "import warnings\n",
    "from neo4j import GraphDatabase\n",
    "warnings.filterwarnings('ignore')\n",
    "##from pandas_profiling import ProfileReport"
   ]
  },
  {
   "cell_type": "code",
   "execution_count": 27,
   "id": "e98fa840-6972-4d7e-b5f6-907dced439df",
   "metadata": {},
   "outputs": [
    {
     "ename": "AttributeError",
     "evalue": "module 'neo4j.data' has no attribute 'Node'",
     "output_type": "error",
     "traceback": [
      "\u001b[1;31m---------------------------------------------------------------------------\u001b[0m",
      "\u001b[1;31mAttributeError\u001b[0m                            Traceback (most recent call last)",
      "Cell \u001b[1;32mIn[27], line 1\u001b[0m\n\u001b[1;32m----> 1\u001b[0m start_node \u001b[38;5;241m=\u001b[39m \u001b[43mneo4j\u001b[49m\u001b[38;5;241;43m.\u001b[39;49m\u001b[43mdata\u001b[49m\u001b[38;5;241;43m.\u001b[39;49m\u001b[43mNode\u001b[49m(\u001b[38;5;124m\"\u001b[39m\u001b[38;5;124mUser\u001b[39m\u001b[38;5;124m\"\u001b[39m, \u001b[38;5;28mid\u001b[39m\u001b[38;5;241m=\u001b[39muser_id)\n",
      "\u001b[1;31mAttributeError\u001b[0m: module 'neo4j.data' has no attribute 'Node'"
     ]
    }
   ],
   "source": [
    "start_node = neo4j.data.Node(\"User\", id=user_id)"
   ]
  },
  {
   "cell_type": "code",
   "execution_count": 14,
   "id": "0ea242f7-5e81-41bf-9e5b-42098dd7cb9d",
   "metadata": {},
   "outputs": [
    {
     "name": "stdout",
     "output_type": "stream",
     "text": [
      "La conexión con Aura Neo4j se ha establecido correctamente. Hay 83 nodos en la base de datos.\n"
     ]
    }
   ],
   "source": [
    "url = \"neo4j+s://9d0eb28d.databases.neo4j.io\"\n",
    "username = \"neo4j\"\n",
    "password = \"\"\n",
    "\n",
    "driver = GraphDatabase.driver(url, auth=(username, password))\n",
    "with driver.session() as session:\n",
    "    result = session.run(\"MATCH (n) RETURN count(n)\")\n",
    "    count = result.single()[0]\n",
    "    print(f\"La conexión con Aura Neo4j se ha establecido correctamente. Hay {count} nodos en la base de datos.\")"
   ]
  },
  {
   "cell_type": "code",
   "execution_count": 21,
   "id": "6774165e-791a-4799-b075-9e4632128dee",
   "metadata": {},
   "outputs": [],
   "source": [
    "query = \"\"\"\n",
    "MATCH (u:User {id: $user_id})-[:IN_VISTAS]->(m:Movie)\n",
    "RETURN m.id AS movie_id\n",
    "\"\"\"\n",
    "\n",
    "user_id = 666\n",
    "with driver.session() as session:\n",
    "    result = session.run(query, user_id=user_id)\n",
    "    vistas = [record[\"movie_id\"] for record in result]\n",
    "    \n",
    "query = f\"MATCH (m:Movie) WHERE NOT m.id IN {vistas} RETURN m.id AS movie_id\"\n",
    "with driver.session() as session:\n",
    "    result = session.run(query)\n",
    "    no_vistas = [record[\"movie_id\"] for record in result]\n",
    "    \n",
    "result = session.run(\n",
    "            \"\"\"\n",
    "            CALL algo.pageRank.stream(\n",
    "                'MATCH (m:Movie)-[:IN_GENRE]->(g:Genre) RETURN id(m) as id',\n",
    "                'MATCH (m1:Movie)-[:SIMILAR_TO]-(m2:Movie) RETURN id(m1) as source, id(m2) as target',\n",
    "                {\n",
    "                    sourceNodes: $start_node,\n",
    "                    relationshipWeightProperty: 'weight',\n",
    "                    writeProperty: 'pagerank'\n",
    "                }\n",
    "            )\n",
    "            \"\"\",\n",
    "            start_node=\"MATCH (u:User {id: 1})\",\n",
    "        )\n",
    "\n"
   ]
  }
 ],
 "metadata": {
  "kernelspec": {
   "display_name": "Python 3 (ipykernel)",
   "language": "python",
   "name": "python3"
  },
  "language_info": {
   "codemirror_mode": {
    "name": "ipython",
    "version": 3
   },
   "file_extension": ".py",
   "mimetype": "text/x-python",
   "name": "python",
   "nbconvert_exporter": "python",
   "pygments_lexer": "ipython3",
   "version": "3.9.13"
  }
 },
 "nbformat": 4,
 "nbformat_minor": 5
}
