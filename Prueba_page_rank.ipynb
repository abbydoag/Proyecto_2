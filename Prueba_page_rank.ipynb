{
 "cells": [
  {
   "cell_type": "code",
   "execution_count": 29,
   "id": "ffebbeab-0e0e-40df-ae76-9ca8cc3aa960",
   "metadata": {
    "tags": []
   },
   "outputs": [],
   "source": [
    "import pandas as pd \n",
    "import numpy as np \n",
    "import neo4j\n",
    "\n",
    "\n",
    "##import seaborn as sns\n",
    "import warnings\n",
    "from neo4j import GraphDatabase\n",
    "warnings.filterwarnings('ignore')\n",
    "import networkx as nx\n",
    "from networkx.algorithms.link_analysis.pagerank_alg import pagerank\n",
    "from collections import Counter\n",
    "##from pandas_profiling import ProfileReport"
   ]
  },
  {
   "cell_type": "code",
   "execution_count": 30,
   "id": "0ea242f7-5e81-41bf-9e5b-42098dd7cb9d",
   "metadata": {
    "tags": []
   },
   "outputs": [
    {
     "name": "stdout",
     "output_type": "stream",
     "text": [
      "La conexión con Aura Neo4j se ha establecido correctamente. Hay 1163 nodos en la base de datos.\n"
     ]
    }
   ],
   "source": [
    "url = \"neo4j+s://9d0eb28d.databases.neo4j.io\"\n",
    "username = \"neo4j\"\n",
    "password = \"ZsZO3ya5YB8EcmVwmxYEqn6Amj_Z7R4t_6VDU5oMIeI\"\n",
    "\n",
    "driver = GraphDatabase.driver(url, auth=(username, password))\n",
    "with driver.session() as session:\n",
    "    result = session.run(\"MATCH (n) RETURN count(n)\")\n",
    "    count = result.single()[0]\n",
    "    print(f\"La conexión con Aura Neo4j se ha establecido correctamente. Hay {count} nodos en la base de datos.\")"
   ]
  },
  {
   "cell_type": "code",
   "execution_count": 33,
   "id": "6774165e-791a-4799-b075-9e4632128dee",
   "metadata": {},
   "outputs": [
    {
     "name": "stdout",
     "output_type": "stream",
     "text": [
      "Found  1154 records \n"
     ]
    }
   ],
   "source": [
    "query = \"\"\"\n",
    "   MATCH (u:User {p : $id})-[:IN_VISTAS]->(m:Movie)-[:IN_GENRE]->(n:Genre)<-[:IN_GENRE]-(m2:Movie)\n",
    "where m.id <> m2.id\n",
    "return u.id, m.nombre, m2.nombre, n.nombre\n",
    "\"\"\"\n",
    "def _peliculas_cliente(tx, password):\n",
    "    \n",
    "    result = tx.run(query, id=password)\n",
    "    return list(result)\n",
    "def find_movies_of_year(password):\n",
    "    records = []\n",
    "    with driver.session() as session:\n",
    "        result = session.read_transaction(_peliculas_cliente, password)\n",
    "        for record in result:\n",
    "            records.append(record)\n",
    "    print(\"Found  {record} records \".format(record=len(records )))\n",
    "\n",
    "    return records\n",
    "a = find_movies_of_year(9487)"
   ]
  },
  {
   "cell_type": "code",
   "execution_count": 35,
   "id": "1483c1b5-15f4-4502-9e78-81f8840e8120",
   "metadata": {
    "tags": []
   },
   "outputs": [
    {
     "name": "stdout",
     "output_type": "stream",
     "text": [
      "Found  1154 records \n",
      "  no of  records for 9487 538\n"
     ]
    }
   ],
   "source": [
    "def create_networkx_graph(password):\n",
    "    \n",
    "    val_count  = Counter([(res['m.nombre'],res['m2.nombre']) for res in find_movies_of_year(password) ])\n",
    "    if len(val_count)==0:\n",
    "        print(f\" no records for {password}\")\n",
    "    print(f\"  no of  records for {password} {len(val_count)}\")\n",
    "\n",
    "    recs = pd.DataFrame([[a[0], a[1], val_count[a]] for a in val_count])\n",
    "\n",
    "    G = nx.DiGraph()\n",
    "    #recs= recs.head(20)\n",
    "    total = len(val_count)\n",
    "    for idx , rec in recs.iterrows():\n",
    "        #print(f\"{idx} of {total} loaded\")\n",
    "        G.add_edge(rec[0], rec[1], weight = rec[2])\n",
    "    return G\n",
    "G= create_networkx_graph(password =9487)"
   ]
  },
  {
   "cell_type": "code",
   "execution_count": 36,
   "id": "513bcd36-1623-4560-8d28-ffaf38c43cc4",
   "metadata": {
    "tags": []
   },
   "outputs": [
    {
     "name": "stdout",
     "output_type": "stream",
     "text": [
      "done calculating page rank\n"
     ]
    }
   ],
   "source": [
    "def run_page_rank(G, password):\n",
    "    pr=pagerank(G)\n",
    "    sorted_pr = {k: v for k, v in sorted(pagerank(G).items(), key=lambda item: item[1], reverse = True)}\n",
    "    df= pd.DataFrame(sorted_pr.items()).assign(password= password)\n",
    "    df['rank'] = df[1].rank(method='dense', ascending=False)\n",
    "    print(f\"done calculating page rank\")\n",
    "    return df\n",
    "df = run_page_rank(G,1)"
   ]
  },
  {
   "cell_type": "code",
   "execution_count": 38,
   "id": "c6a57029-cae1-41fc-91eb-8d3d2aa4d463",
   "metadata": {
    "tags": []
   },
   "outputs": [
    {
     "name": "stdout",
     "output_type": "stream",
     "text": [
      "                            0         1  password  rank\n",
      "0             alles ist liebe  0.002074         1   1.0\n",
      "1   shabab yarqos fawq al-nar  0.002074         1   1.0\n",
      "2                 homewrecker  0.002074         1   1.0\n",
      "3                     overdue  0.002074         1   1.0\n",
      "4                   ai dao di  0.002074         1   1.0\n",
      "5                      ho yuk  0.002074         1   1.0\n",
      "6             husband hunters  0.002074         1   1.0\n",
      "7               la governante  0.002074         1   1.0\n",
      "8       fovou tous ellines...  0.002074         1   1.0\n",
      "9        the princess diaries  0.002070         1   2.0\n",
      "10            at the drive-in  0.002070         1   2.0\n",
      "11   shakhe goli baraye aroos  0.002070         1   2.0\n",
      "12      she's out of his mind  0.002070         1   2.0\n",
      "13                hesapta ask  0.002070         1   2.0\n",
      "14                     tallos  0.002070         1   2.0\n"
     ]
    }
   ],
   "source": [
    "print(df.head(15))"
   ]
  }
 ],
 "metadata": {
  "kernelspec": {
   "display_name": "Python 3 (ipykernel)",
   "language": "python",
   "name": "python3"
  },
  "language_info": {
   "codemirror_mode": {
    "name": "ipython",
    "version": 3
   },
   "file_extension": ".py",
   "mimetype": "text/x-python",
   "name": "python",
   "nbconvert_exporter": "python",
   "pygments_lexer": "ipython3",
   "version": "3.8.16"
  }
 },
 "nbformat": 4,
 "nbformat_minor": 5
}
