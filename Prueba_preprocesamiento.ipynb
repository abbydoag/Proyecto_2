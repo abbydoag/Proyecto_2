{
 "cells": [
  {
   "cell_type": "code",
   "execution_count": 2,
   "id": "a080ceb9-66f9-48da-85dd-76224082b7f1",
   "metadata": {},
   "outputs": [],
   "source": [
    "import pandas as pd \n",
    "import numpy as np \n",
    "import neo4j\n",
    "\n",
    "import seaborn as sns\n",
    "import warnings\n",
    "warnings.filterwarnings('ignore')\n",
    "##from pandas_profiling import ProfileReport"
   ]
  },
  {
   "cell_type": "code",
   "execution_count": 3,
   "id": "df36f56a-2358-4293-b417-cc2732a97d75",
   "metadata": {},
   "outputs": [],
   "source": [
    "data=pd.read_csv('data.tsv',sep='\\t')\n",
    "data.head()\n",
    "data_1=data.dropna()\n",
    "data_1.replace(\"\\\\N\", value = np.nan, inplace = True)\n",
    "data_1[\"genres\"]=data_1[\"genres\"].replace(np.nan, value = \"666\")\n",
    "data_1.infer_objects()\n",
    "\n",
    "data_1[\"titleType\"]=data_1[\"titleType\"].str.lower()\n",
    "data_1[\"primaryTitle\"]=data_1[\"primaryTitle\"].str.lower()\n",
    "data_1[\"originalTitle\"]=data_1[\"originalTitle\"].str.lower()\n",
    "data_1[\"genres\"]=data_1[\"genres\"].str.lower()\n",
    "data_1=data_1[data_1[\"titleType\"]==\"movie\"]\n",
    "\n",
    "\n",
    "data_1['isAdult']=pd.to_numeric(data_1['isAdult'])\n",
    "data_1[\"startYear\"]=pd.to_numeric(data_1[\"startYear\"])\n",
    "data_1[\"runtimeMinutes\"]=pd.to_numeric(data_1[\"runtimeMinutes\"])\n",
    "data_1[\"endYear\"]=pd.to_numeric(data_1[\"endYear\"])\n"
   ]
  },
  {
   "cell_type": "code",
   "execution_count": 4,
   "id": "dcc9f9b8-2fe4-4686-884f-2c19889b2295",
   "metadata": {},
   "outputs": [
    {
     "name": "stdout",
     "output_type": "stream",
     "text": [
      "['sci-fi', 'animation', 'talk-show', 'comedy', 'war', 'horror', 'adventure', 'history', 'thriller', 'music', 'western', 'fantasy', '666', 'film-noir', 'short', 'documentary', 'musical', 'reality-tv', 'sport', 'romance', 'news', 'game-show', 'adult', 'family', 'biography', 'action', 'drama', 'mystery', 'crime']\n"
     ]
    }
   ],
   "source": [
    "a=data_1[\"genres\"].unique()\n",
    "unique_genres = set()\n",
    "\n",
    "# Iterar sobre cada cadena de géneros en el arreglo\n",
    "for genres in a:\n",
    "    # Convertir la cadena en una lista de géneros\n",
    "    if type(genres) == str:\n",
    "        genre_list = genres.split(',')\n",
    "        # Agregar cada género único al conjunto\n",
    "        unique_genres.update(genre_list)\n",
    "\n",
    "# Convertir el conjunto de vuelta en una lista\n",
    "unique_genres_list = list(unique_genres)\n",
    "print(unique_genres_list)"
   ]
  },
  {
   "cell_type": "code",
   "execution_count": 5,
   "id": "076aaf62-6e5c-4ff8-a0ff-02e8a3d1f5c1",
   "metadata": {},
   "outputs": [],
   "source": [
    "data_1[\"tiempo_rank\"]=pd.qcut(data_1[\"runtimeMinutes\"], 10,labels = False)"
   ]
  },
  {
   "cell_type": "code",
   "execution_count": 6,
   "id": "a4c6c698-1b53-4319-8428-bfc499337e8d",
   "metadata": {},
   "outputs": [],
   "source": [
    "data_1[\"genres\"]=data_1[\"genres\"].astype(str)"
   ]
  },
  {
   "cell_type": "code",
   "execution_count": 7,
   "id": "7a1837c8-0e1a-4325-ab7f-55f4c6521f47",
   "metadata": {},
   "outputs": [
    {
     "data": {
      "text/html": [
       "<div>\n",
       "<style scoped>\n",
       "    .dataframe tbody tr th:only-of-type {\n",
       "        vertical-align: middle;\n",
       "    }\n",
       "\n",
       "    .dataframe tbody tr th {\n",
       "        vertical-align: top;\n",
       "    }\n",
       "\n",
       "    .dataframe thead th {\n",
       "        text-align: right;\n",
       "    }\n",
       "</style>\n",
       "<table border=\"1\" class=\"dataframe\">\n",
       "  <thead>\n",
       "    <tr style=\"text-align: right;\">\n",
       "      <th></th>\n",
       "      <th>tconst</th>\n",
       "      <th>titleType</th>\n",
       "      <th>primaryTitle</th>\n",
       "      <th>originalTitle</th>\n",
       "      <th>isAdult</th>\n",
       "      <th>startYear</th>\n",
       "      <th>endYear</th>\n",
       "      <th>runtimeMinutes</th>\n",
       "      <th>genres</th>\n",
       "      <th>tiempo_rank</th>\n",
       "    </tr>\n",
       "  </thead>\n",
       "  <tbody>\n",
       "    <tr>\n",
       "      <th>8</th>\n",
       "      <td>tt0000009</td>\n",
       "      <td>movie</td>\n",
       "      <td>miss jerry</td>\n",
       "      <td>miss jerry</td>\n",
       "      <td>0</td>\n",
       "      <td>1894.0</td>\n",
       "      <td>NaN</td>\n",
       "      <td>45.0</td>\n",
       "      <td>[romance]</td>\n",
       "      <td>0.0</td>\n",
       "    </tr>\n",
       "    <tr>\n",
       "      <th>144</th>\n",
       "      <td>tt0000147</td>\n",
       "      <td>movie</td>\n",
       "      <td>the corbett-fitzsimmons fight</td>\n",
       "      <td>the corbett-fitzsimmons fight</td>\n",
       "      <td>0</td>\n",
       "      <td>1897.0</td>\n",
       "      <td>NaN</td>\n",
       "      <td>100.0</td>\n",
       "      <td>[documentary, news, sport]</td>\n",
       "      <td>7.0</td>\n",
       "    </tr>\n",
       "    <tr>\n",
       "      <th>498</th>\n",
       "      <td>tt0000502</td>\n",
       "      <td>movie</td>\n",
       "      <td>bohemios</td>\n",
       "      <td>bohemios</td>\n",
       "      <td>0</td>\n",
       "      <td>1905.0</td>\n",
       "      <td>NaN</td>\n",
       "      <td>100.0</td>\n",
       "      <td>[666]</td>\n",
       "      <td>7.0</td>\n",
       "    </tr>\n",
       "    <tr>\n",
       "      <th>570</th>\n",
       "      <td>tt0000574</td>\n",
       "      <td>movie</td>\n",
       "      <td>the story of the kelly gang</td>\n",
       "      <td>the story of the kelly gang</td>\n",
       "      <td>0</td>\n",
       "      <td>1906.0</td>\n",
       "      <td>NaN</td>\n",
       "      <td>70.0</td>\n",
       "      <td>[action, adventure, biography]</td>\n",
       "      <td>2.0</td>\n",
       "    </tr>\n",
       "    <tr>\n",
       "      <th>587</th>\n",
       "      <td>tt0000591</td>\n",
       "      <td>movie</td>\n",
       "      <td>the prodigal son</td>\n",
       "      <td>l'enfant prodigue</td>\n",
       "      <td>0</td>\n",
       "      <td>1907.0</td>\n",
       "      <td>NaN</td>\n",
       "      <td>90.0</td>\n",
       "      <td>[drama]</td>\n",
       "      <td>5.0</td>\n",
       "    </tr>\n",
       "  </tbody>\n",
       "</table>\n",
       "</div>"
      ],
      "text/plain": [
       "        tconst titleType                   primaryTitle  \\\n",
       "8    tt0000009     movie                     miss jerry   \n",
       "144  tt0000147     movie  the corbett-fitzsimmons fight   \n",
       "498  tt0000502     movie                       bohemios   \n",
       "570  tt0000574     movie    the story of the kelly gang   \n",
       "587  tt0000591     movie               the prodigal son   \n",
       "\n",
       "                     originalTitle  isAdult  startYear  endYear  \\\n",
       "8                       miss jerry        0     1894.0      NaN   \n",
       "144  the corbett-fitzsimmons fight        0     1897.0      NaN   \n",
       "498                       bohemios        0     1905.0      NaN   \n",
       "570    the story of the kelly gang        0     1906.0      NaN   \n",
       "587              l'enfant prodigue        0     1907.0      NaN   \n",
       "\n",
       "     runtimeMinutes                          genres  tiempo_rank  \n",
       "8              45.0                       [romance]          0.0  \n",
       "144           100.0      [documentary, news, sport]          7.0  \n",
       "498           100.0                           [666]          7.0  \n",
       "570            70.0  [action, adventure, biography]          2.0  \n",
       "587            90.0                         [drama]          5.0  "
      ]
     },
     "execution_count": 7,
     "metadata": {},
     "output_type": "execute_result"
    }
   ],
   "source": [
    "data_1['genres'] = [x.strip('()').split(',') for x in data_1['genres']]\n",
    "data_1.head()\n"
   ]
  },
  {
   "cell_type": "code",
   "execution_count": 11,
   "id": "1128cbb6-5982-4023-9e9f-fa6dce635e3e",
   "metadata": {},
   "outputs": [
    {
     "name": "stdout",
     "output_type": "stream",
     "text": [
      "['tt0000009', 'tt0000147', 'tt0000502', 'tt0000574', 'tt0000591', 'tt0000615', 'tt0000630', 'tt0000675', 'tt0000679', 'tt0000838', 'tt0000842', 'tt0000846', 'tt0000850', 'tt0000859', 'tt0000862', 'tt0000867', 'tt0000868', 'tt0000869', 'tt0000879', 'tt0000886', 'tt0000941', 'tt0000947', 'tt0000959', 'tt0000984', 'tt0001007', 'tt0001010', 'tt0001028', 'tt0001038', 'tt0001043', 'tt0001049', 'tt0001051', 'tt0001059', 'tt0001069', 'tt0001080', 'tt0001081', 'tt0001082', 'tt0001101', 'tt0001109', 'tt0001112', 'tt0001113', 'tt0001115', 'tt0001116', 'tt0001122', 'tt0001141', 'tt0001142', 'tt0001147', 'tt0001159', 'tt0001163', 'tt0001175', 'tt0001179']\n"
     ]
    }
   ],
   "source": [
    "print(data_1.iloc[:50,0].to_list())"
   ]
  },
  {
   "cell_type": "code",
   "execution_count": 7,
   "id": "31aa6bd7-ea57-4bf9-9008-01f2fb4fef00",
   "metadata": {},
   "outputs": [
    {
     "name": "stdout",
     "output_type": "stream",
     "text": [
      "La conexión con Aura Neo4j se ha establecido correctamente. Hay 0 nodos en la base de datos.\n"
     ]
    }
   ],
   "source": [
    "from neo4j import GraphDatabase\n",
    "\n",
    "\n",
    "url = \"neo4j+s://9d0eb28d.databases.neo4j.io\"\n",
    "username = \"neo4j\"\n",
    "password = \"\"\n",
    "\n",
    "driver = GraphDatabase.driver(url, auth=(username, password))\n",
    "#with driver.session() as session:\n",
    "#    session.run(\"MATCH (n) DETACH DELETE n\")\n",
    "with driver.session() as session:\n",
    "    result = session.run(\"MATCH (n) RETURN count(n)\")\n",
    "    count = result.single()[0]\n",
    "    print(f\"La conexión con Aura Neo4j se ha establecido correctamente. Hay {count} nodos en la base de datos.\")\n",
    "    \n",
    "    "
   ]
  },
  {
   "cell_type": "code",
   "execution_count": 9,
   "id": "fd3e977c-59d6-4b5a-aba6-5051a64411cf",
   "metadata": {},
   "outputs": [],
   "source": [
    "for i in unique_genres_list: \n",
    "     with driver.session() as session:\n",
    "        session.execute_write(\n",
    "            lambda tx: tx.run(\"MERGE (m:Genre {nombre: $nombre})\", nombre=i)\n",
    "        )\n",
    "for index, row in data_1.iloc[:50,:].iterrows():\n",
    "    movie_id = row[\"tconst\"]\n",
    "    title = row[\"originalTitle\"]\n",
    "    genres = row[\"genres\"] \n",
    "    with driver.session() as session:\n",
    "        session.execute_write(\n",
    "            lambda tx: tx.run(\"MERGE (m:Movie {nombre: $nombre,id: $id})\", nombre=title, id = movie_id)\n",
    "        )\n",
    "\n",
    "    "
   ]
  },
  {
   "cell_type": "code",
   "execution_count": 11,
   "id": "c8af6374-aa7d-4e17-8f42-a7c39d103e7c",
   "metadata": {},
   "outputs": [],
   "source": [
    "for index, row in data_1.iloc[:50,:].iterrows():\n",
    "    movie_id = row[\"tconst\"]\n",
    "    title = row[\"originalTitle\"]\n",
    "    genres = row[\"genres\"]        \n",
    "    with driver.session() as session:\n",
    "        for genre in genres:\n",
    "            session.execute_write(\n",
    "                lambda tx: tx.run(\"MATCH (g:Genre {nombre: $nombre}) \"\n",
    "            \"MATCH (m:Movie {id: $id}) \"\n",
    "            \"CREATE (g)-[:IN_GENRE]->(m)\"\n",
    "            , nombre=genre, id=movie_id)\n",
    "            )"
   ]
  }
 ],
 "metadata": {
  "kernelspec": {
   "display_name": "Python 3 (ipykernel)",
   "language": "python",
   "name": "python3"
  },
  "language_info": {
   "codemirror_mode": {
    "name": "ipython",
    "version": 3
   },
   "file_extension": ".py",
   "mimetype": "text/x-python",
   "name": "python",
   "nbconvert_exporter": "python",
   "pygments_lexer": "ipython3",
   "version": "3.9.13"
  }
 },
 "nbformat": 4,
 "nbformat_minor": 5
}
