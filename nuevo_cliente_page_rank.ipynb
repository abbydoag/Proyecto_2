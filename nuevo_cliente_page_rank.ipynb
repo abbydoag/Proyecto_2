{
 "cells": [
  {
   "cell_type": "code",
   "execution_count": 1,
   "id": "4ad16c36-dca6-403d-9f1c-268ccdf67771",
   "metadata": {
    "tags": []
   },
   "outputs": [],
   "source": [
    "import pandas as pd \n",
    "import numpy as np \n",
    "import neo4j\n",
    "\n",
    "\n",
    "##import seaborn as sns\n",
    "import warnings\n",
    "from neo4j import GraphDatabase\n",
    "warnings.filterwarnings('ignore')\n",
    "import networkx as nx\n",
    "from networkx.algorithms.link_analysis.pagerank_alg import pagerank\n",
    "from collections import Counter\n",
    "##from pandas_profiling import ProfileReport"
   ]
  },
  {
   "cell_type": "code",
   "execution_count": 2,
   "id": "a25b90d4-f762-4049-8419-96779e13110c",
   "metadata": {
    "tags": []
   },
   "outputs": [
    {
     "name": "stdout",
     "output_type": "stream",
     "text": [
      "La conexión con Aura Neo4j se ha establecido correctamente. Hay 1169 nodos en la base de datos.\n"
     ]
    }
   ],
   "source": [
    "url = \"neo4j+s://9d0eb28d.databases.neo4j.io\"\n",
    "username = \"neo4j\"\n",
    "password = \"ZsZO3ya5YB8EcmVwmxYEqn6Amj_Z7R4t_6VDU5oMIeI\"\n",
    "\n",
    "driver = GraphDatabase.driver(url, auth=(username, password))\n",
    "with driver.session() as session:\n",
    "    result = session.run(\"MATCH (n) RETURN count(n)\")\n",
    "    count = result.single()[0]\n",
    "    print(f\"La conexión con Aura Neo4j se ha establecido correctamente. Hay {count} nodos en la base de datos.\")"
   ]
  },
  {
   "cell_type": "code",
   "execution_count": 15,
   "id": "2517ea7b-b3de-43d6-9618-411029e3efe0",
   "metadata": {
    "tags": []
   },
   "outputs": [
    {
     "name": "stdout",
     "output_type": "stream",
     "text": [
      "[<Record g.nombre='drama'>]\n"
     ]
    }
   ],
   "source": [
    "def _existencia_usuarios_nodo(tx, genero):\n",
    "    results=tx.run(\"MATCH (g:Genre {nombre: $nombre}) RETURN g.nombre\", nombre=genero)\n",
    "    return(list(results))\n",
    "with driver.session() as session:\n",
    "        n=session.read_transaction(_existencia_usuarios_nodo,genero = \"drama\")\n",
    "        print(n)"
   ]
  },
  {
   "cell_type": "code",
   "execution_count": 12,
   "id": "8b5c9ec5-81a7-40fe-be62-dfccb8784f7e",
   "metadata": {
    "tags": []
   },
   "outputs": [
    {
     "name": "stdout",
     "output_type": "stream",
     "text": [
      "[<Record count(u)=5>]\n",
      "No mms ya existe ese usuario\n"
     ]
    }
   ],
   "source": [
    "def usuarios_nodo(tx, id, p):\n",
    "    tx.run(\"CREATE (:User {id: $id, p: $p})\", id=id, p = p)\n",
    "    \n",
    "def existencia_usuarios_nodo(tx, id):\n",
    "    result=tx.run(\"MATCH (u:User {id : $id}) return count(u)\", id=id)\n",
    "    return list(result)\n",
    "\n",
    "def new_cliente(id, p):\n",
    "    records = []\n",
    "    with driver.session() as session:\n",
    "        n=session.read_transaction( existencia_usuarios_nodo,id = id)\n",
    "        print(n)\n",
    "        if (n == 0 or n == None):\n",
    "            session.write_transaction(usuarios_nodo,id = id, p = p)\n",
    "        else: \n",
    "            print(\"No mms ya existe ese usuario\")\n",
    "    return None\n",
    "\n",
    "\n",
    "    \n",
    "new_cliente(800,34678)"
   ]
  },
  {
   "cell_type": "code",
   "execution_count": 19,
   "id": "91b79ec8-7991-4449-bb39-6d01b3bb0855",
   "metadata": {
    "tags": []
   },
   "outputs": [
    {
     "name": "stdout",
     "output_type": "stream",
     "text": [
      "drama\n",
      "Found  120062 records \n"
     ]
    }
   ],
   "source": [
    "#recomendaciones (pagerank)\n",
    "from gettext import find\n",
    "\n",
    "\n",
    "query = \"\"\"MATCH MATCH (G:Genre {name: \"Drama\"})-[IN_GENRE]->(m:Movie)\n",
    "RETURN G.name, m.name\n",
    "\"\"\"\n",
    "def películas_cliente(tx, password):\n",
    "    result = tx.run(query, id=password)\n",
    "    return list(result)                 \n",
    "def pelis_drama(password):\n",
    "    records=[]\n",
    "    with driver.session() as session:\n",
    "        result=session.read_transaction(películas_cliente, password)\n",
    "        for record in result:\n",
    "            records.append(record)\n",
    "    print(\"Found {record} records!\". format(record=len(records)))\n",
    "    return records\n",
    "a= pelis_drama(1)   #Resultados películas género drama"
   ]
  },
  {
   "cell_type": "code",
   "execution_count": 30,
   "id": "f1df0f65-6c13-4309-a18a-de5ca154cc6a",
   "metadata": {
    "tags": []
   },
   "outputs": [
    {
     "name": "stdout",
     "output_type": "stream",
     "text": [
      "drama\n",
      "Found  120062 records \n",
      "comedy\n",
      "Found  145822 records \n",
      "  no of  records for ZsZO3ya5YB8EcmVwmxYEqn6Amj_Z7R4t_6VDU5oMIeI 144016\n"
     ]
    }
   ],
   "source": [
    "def create_networkx_graph(generos):\n",
    "    \n",
    "    val_count  = Counter([(res['m.nombre'],res['m2.nombre']) for res in pelis_drama(generos) ])\n",
    "    if len(val_count)==0:\n",
    "        print(f\" no records for {password}\")\n",
    "    print(f\"  no of  records for {password} {len(val_count)}\")\n",
    "\n",
    "    recs = pd.DataFrame([[a[0], a[1], val_count[a]] for a in val_count])\n",
    "\n",
    "    G = nx.DiGraph()\n",
    "    #recs= recs.head(20)\n",
    "    total = len(val_count)\n",
    "    for idx , rec in recs.iterrows():\n",
    "        #print(f\"{idx} of {total} loaded\")\n",
    "        G.add_edge(rec[0], rec[1], weight = rec[2])\n",
    "    return G\n",
    "G= create_networkx_graph(generos = [\"drama\",\"comedy\"])"
   ]
  },
  {
   "cell_type": "code",
   "execution_count": 32,
   "id": "6824c5b1-99b3-4b84-b1b3-1096bf39b659",
   "metadata": {
    "tags": []
   },
   "outputs": [
    {
     "name": "stdout",
     "output_type": "stream",
     "text": [
      "done calculating page rank\n"
     ]
    }
   ],
   "source": [
    "def run_page_rank(G, generos):\n",
    "    pr=pagerank(G)\n",
    "    sorted_pr = {k: v for k, v in sorted(pagerank(G).items(), key=lambda item: item[1], reverse = True)}\n",
    "    df= pd.DataFrame(sorted_pr.items())\n",
    "    df['rank'] = df[1].rank(method='dense', ascending=False)\n",
    "    print(f\"done calculating page rank\")\n",
    "    return df\n",
    "df = run_page_rank(G,[\"drama\",\"comedy\"])"
   ]
  },
  {
   "cell_type": "code",
   "execution_count": 33,
   "id": "c3cf0c35-9ea0-433d-8477-16ef79848418",
   "metadata": {
    "tags": []
   },
   "outputs": [
    {
     "name": "stdout",
     "output_type": "stream",
     "text": [
      "                                                    0         1  rank\n",
      "0                                      día de muertos  0.003408   1.0\n",
      "1                                     at the drive-in  0.003408   1.0\n",
      "2                               she's out of his mind  0.003408   1.0\n",
      "3                                              tallos  0.003408   1.0\n",
      "4                       l'étudiante et monsieur henri  0.003408   1.0\n",
      "5                                              people  0.003408   1.0\n",
      "6                                  a thousand junkies  0.003408   1.0\n",
      "7                                     alles ist liebe  0.003408   1.0\n",
      "8                                   hao nu shi ba jia  0.003408   1.0\n",
      "9                                  miss india america  0.003408   1.0\n",
      "10                                 kaamannana makkalu  0.003408   1.0\n",
      "11                      ikite iru no wa hima tsubushi  0.003408   1.0\n",
      "12                                          soap life  0.003408   1.0\n",
      "13                          shabab yarqos fawq al-nar  0.003408   1.0\n",
      "14                                walking on sunshine  0.003408   1.0\n",
      "15                            carlos spills the beans  0.003408   1.0\n",
      "16                                            destroy  0.003408   1.0\n",
      "17                                 ese loco amor loco  0.003408   1.0\n",
      "18                                  tie bo zi li yong  0.003408   1.0\n",
      "19                                      la governante  0.003408   1.0\n",
      "20                                              andaz  0.003408   1.0\n",
      "21                                 dead poets society  0.003408   1.0\n",
      "22                                         prästänkan  0.003408   1.0\n",
      "23                                    husband hunters  0.003408   1.0\n",
      "24                                  men are like that  0.003408   1.0\n",
      "25                                      fly away baby  0.003408   1.0\n",
      "26                                    reckless living  0.003408   1.0\n",
      "27  alexander and the terrible, horrible, no good,...  0.003408   2.0\n",
      "28                                        homewrecker  0.003408   2.0\n",
      "29                                            overdue  0.003408   2.0\n",
      "30                                     butter side up  0.003408   2.0\n",
      "31                                        a time lost  0.003408   2.0\n",
      "32                          jinne jamme saare nikamme  0.003408   2.0\n",
      "33                                          ai dao di  0.003408   2.0\n",
      "34                                   the last weekend  0.003408   2.0\n",
      "35                                            hoteles  0.003408   2.0\n",
      "36                        oomappenninu uriyadappayyan  0.003408   2.0\n",
      "37                                           ganamela  0.003408   2.0\n",
      "38                                             ho yuk  0.003408   2.0\n",
      "39                                       gogyo yalgae  0.003408   2.0\n",
      "40                                            cherish  0.003408   2.0\n",
      "41                               una abuelita atómica  0.003408   2.0\n",
      "42                              fovou tous ellines...  0.003408   2.0\n",
      "43                                        raging boil  0.002223   3.0\n",
      "44                                   it's complicated  0.002223   3.0\n"
     ]
    }
   ],
   "source": [
    "print(df.head(45))"
   ]
  }
 ],
 "metadata": {
  "kernelspec": {
   "display_name": "Python 3 (ipykernel)",
   "language": "python",
   "name": "python3"
  },
  "language_info": {
   "codemirror_mode": {
    "name": "ipython",
    "version": 3
   },
   "file_extension": ".py",
   "mimetype": "text/x-python",
   "name": "python",
   "nbconvert_exporter": "python",
   "pygments_lexer": "ipython3",
   "version": "3.8.16"
  }
 },
 "nbformat": 4,
 "nbformat_minor": 5
}
